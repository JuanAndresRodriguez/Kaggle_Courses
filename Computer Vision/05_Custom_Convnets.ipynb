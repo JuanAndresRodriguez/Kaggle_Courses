{
 "cells": [
  {
   "cell_type": "markdown",
   "id": "joined-direction",
   "metadata": {},
   "source": [
    "# Custom Convnets"
   ]
  },
  {
   "cell_type": "markdown",
   "id": "upper-whole",
   "metadata": {},
   "source": [
    "## Simple to Refined\n",
    "In the last three lessons, we saw how convolutional networks perform feature extraction through three operations: filter, detect, and condense. A single round of feature extraction can only extract relatively simple features from an image, things like simple lines or contrasts. These are too simple to solve most classification problems. Instead, convnets will repeat this extraction over and over, so that the features become more complex and refined as they travel deeper into the network."
   ]
  },
  {
   "cell_type": "markdown",
   "id": "referenced-parameter",
   "metadata": {},
   "source": [
    "## Convolutional Blocks\n",
    "It does this by passing them through long chains of convolutional blocks which perform this extraction.\n",
    "These convolutional blocks are stacks of Conv2D and MaxPool2D layers, whose role in feature extraction we learned about in the last few lessons.\n",
    "Each block represents a round of extraction, and by composing these blocks the convnet can combine and recombine the features produced, growing them and shaping them to better fit the problem at hand. The deep structure of modern convnets is what allows this sophisticated feature engineering and has been largely responsible for their superior performance.\n",
    "\n",
    "## Example - Design a Convnet\n",
    "\n",
    "Let's see how to define a deep convolutional network capable of engineering complex features. In this example, we'll create a Keras Sequence model and then train it on our Cars dataset.\n",
    "\n",
    "### Step 1 - Load Data"
   ]
  },
  {
   "cell_type": "code",
   "execution_count": 1,
   "id": "greek-spending",
   "metadata": {},
   "outputs": [
    {
     "name": "stdout",
     "output_type": "stream",
     "text": [
      "Found 5117 files belonging to 2 classes.\n",
      "Found 5051 files belonging to 2 classes.\n"
     ]
    }
   ],
   "source": [
    "# Imports \n",
    "import os, warnings\n",
    "import matplotlib.pyplot as plt\n",
    "from matplotlib import gridspec\n",
    "\n",
    "import numpy as np\n",
    "import tensorflow as tf\n",
    "from tensorflow.keras.preprocessing import image_dataset_from_directory\n",
    "\n",
    "# Reproducability\n",
    "def set_seed(seed=31415):\n",
    "    np.random.seed(seed)\n",
    "    tf.random.set_seed(seed)\n",
    "    os.environ['PYTHONHASHED'] = str(seed)\n",
    "    os.environ['TF_DETERMINISTIC_OPS'] = '1'\n",
    "\n",
    "set_seed()\n",
    "\n",
    "# Set Matplotlib defaults\n",
    "plt.rc('figure', autolayout=True)\n",
    "plt.rc('axes',\n",
    "       labelweight = 'bold',\n",
    "       labelsize = 'large',\n",
    "       titleweight = 'bold',\n",
    "       titlesize = 18,\n",
    "       titlepad = 10\n",
    "      )\n",
    "plt.rc('image', cmap='magma')\n",
    "warnings.filterwarnings('ignore') # to clean up output cells\n",
    "\n",
    "# Load training and validation sets\n",
    "ds_train_ = image_dataset_from_directory(\n",
    "    'train',\n",
    "    labels = 'inferred',\n",
    "    label_mode = 'binary',\n",
    "    image_size = [128, 128],\n",
    "    interpolation = 'nearest',\n",
    "    batch_size = 64,\n",
    "    shuffle = True\n",
    ")\n",
    "\n",
    "ds_valid_ = image_dataset_from_directory(\n",
    "    'valid',\n",
    "    labels = 'inferred',\n",
    "    label_mode = 'binary',\n",
    "    image_size = [128, 128],\n",
    "    interpolation = 'nearest',\n",
    "    batch_size = 64,\n",
    "    shuffle = True\n",
    ")\n",
    "\n",
    "# Data Pipeline\n",
    "def convert_to_float(image, label):\n",
    "    image = tf.image.convert_image_dtype(image, dtype = tf.float32)\n",
    "    return image, label\n",
    "\n",
    "AUTOTUNE = tf.data.experimental.AUTOTUNE\n",
    "ds_train = (ds_train_.map(convert_to_float).cache().prefetch(buffer_size=AUTOTUNE))\n",
    "ds_valid = (ds_valid_.map(convert_to_float).cache().prefetch(buffer_size=AUTOTUNE))"
   ]
  },
  {
   "cell_type": "markdown",
   "id": "infectious-infrared",
   "metadata": {},
   "source": [
    "### Step 2 - Define Model\n",
    "Now we'll define the model. See how our model consists of three blocks of Conv2D and MaxPool2D layers (the base) followed by a head of Dense layers."
   ]
  },
  {
   "cell_type": "code",
   "execution_count": 2,
   "id": "activated-beast",
   "metadata": {},
   "outputs": [
    {
     "name": "stdout",
     "output_type": "stream",
     "text": [
      "Model: \"sequential\"\n",
      "_________________________________________________________________\n",
      "Layer (type)                 Output Shape              Param #   \n",
      "=================================================================\n",
      "conv2d (Conv2D)              (None, 128, 128, 32)      2432      \n",
      "_________________________________________________________________\n",
      "max_pooling2d (MaxPooling2D) (None, 64, 64, 32)        0         \n",
      "_________________________________________________________________\n",
      "conv2d_1 (Conv2D)            (None, 64, 64, 64)        18496     \n",
      "_________________________________________________________________\n",
      "max_pooling2d_1 (MaxPooling2 (None, 32, 32, 64)        0         \n",
      "_________________________________________________________________\n",
      "conv2d_2 (Conv2D)            (None, 32, 32, 128)       73856     \n",
      "_________________________________________________________________\n",
      "max_pooling2d_2 (MaxPooling2 (None, 16, 16, 128)       0         \n",
      "_________________________________________________________________\n",
      "flatten (Flatten)            (None, 32768)             0         \n",
      "_________________________________________________________________\n",
      "dense (Dense)                (None, 6)                 196614    \n",
      "_________________________________________________________________\n",
      "dense_1 (Dense)              (None, 1)                 7         \n",
      "=================================================================\n",
      "Total params: 291,405\n",
      "Trainable params: 291,405\n",
      "Non-trainable params: 0\n",
      "_________________________________________________________________\n"
     ]
    }
   ],
   "source": [
    "from tensorflow import keras\n",
    "from tensorflow.keras import layers\n",
    "\n",
    "model = keras.Sequential([\n",
    "    # First Convolutional Block\n",
    "    layers.Conv2D(filters=32,\n",
    "                  kernel_size=5,\n",
    "                  activation='relu',\n",
    "                  padding='same',\n",
    "                  # give the input dimensions in the first layer\n",
    "                  # [height, width, color channels(RGB)]\n",
    "                  input_shape = [128, 128, 3]),\n",
    "    layers.MaxPool2D(),\n",
    "    \n",
    "    # Second Convolutional Block\n",
    "    \n",
    "    layers.Conv2D(filters = 64,\n",
    "                  kernel_size = 3,\n",
    "                  activation = 'relu',\n",
    "                  padding = 'same'\n",
    "                 ),\n",
    "    layers.MaxPool2D(),\n",
    "    \n",
    "    # Third Convolutional Block\n",
    "    layers.Conv2D(filters = 128,\n",
    "                  kernel_size = 3,\n",
    "                  activation = 'relu', padding = 'same'\n",
    "                 ),\n",
    "    layers.MaxPool2D(),\n",
    "    \n",
    "    # Classifier Head\n",
    "    layers.Flatten(),\n",
    "    layers.Dense(units=6, activation='relu'),\n",
    "    layers.Dense(units=1, activation='sigmoid')\n",
    "])\n",
    "model.summary()"
   ]
  },
  {
   "cell_type": "markdown",
   "id": "enormous-wright",
   "metadata": {},
   "source": [
    "Notice in this definition is how the number of filters doubled block-by-block: 64, 128, 256. This is a common pattern. Since the MaxPool2D layer is reducing the size of the feature maps, we can afford to increase the quantity we create."
   ]
  },
  {
   "cell_type": "markdown",
   "id": "useful-copper",
   "metadata": {},
   "source": [
    "### Step 3 - Train\n",
    "We can train this model just like the model from Lesson 1: compile it with an optimizer along with a loss and metric appropriate for binary classification."
   ]
  },
  {
   "cell_type": "code",
   "execution_count": 4,
   "id": "anticipated-consideration",
   "metadata": {
    "scrolled": false
   },
   "outputs": [
    {
     "name": "stdout",
     "output_type": "stream",
     "text": [
      "Epoch 1/40\n",
      "80/80 [==============================] - 117s 1s/step - loss: 0.6887 - binary_accuracy: 0.5486 - val_loss: 0.6714 - val_binary_accuracy: 0.5771\n",
      "Epoch 2/40\n",
      "80/80 [==============================] - 128s 2s/step - loss: 0.6682 - binary_accuracy: 0.5868 - val_loss: 0.6577 - val_binary_accuracy: 0.6151\n",
      "Epoch 3/40\n",
      "80/80 [==============================] - 104s 1s/step - loss: 0.6562 - binary_accuracy: 0.6091 - val_loss: 0.6502 - val_binary_accuracy: 0.6246\n",
      "Epoch 4/40\n",
      "80/80 [==============================] - 101s 1s/step - loss: 0.6488 - binary_accuracy: 0.6200 - val_loss: 0.6428 - val_binary_accuracy: 0.6329\n",
      "Epoch 5/40\n",
      "80/80 [==============================] - 102s 1s/step - loss: 0.6401 - binary_accuracy: 0.6353 - val_loss: 0.6324 - val_binary_accuracy: 0.6401\n",
      "Epoch 6/40\n",
      "80/80 [==============================] - 101s 1s/step - loss: 0.6292 - binary_accuracy: 0.6506 - val_loss: 0.6229 - val_binary_accuracy: 0.6452\n",
      "Epoch 7/40\n",
      "80/80 [==============================] - 101s 1s/step - loss: 0.6182 - binary_accuracy: 0.6608 - val_loss: 0.6184 - val_binary_accuracy: 0.6508\n",
      "Epoch 8/40\n",
      "80/80 [==============================] - 104s 1s/step - loss: 0.6073 - binary_accuracy: 0.6727 - val_loss: 0.6175 - val_binary_accuracy: 0.6575\n",
      "Epoch 9/40\n",
      "80/80 [==============================] - 108s 1s/step - loss: 0.5960 - binary_accuracy: 0.6843 - val_loss: 0.6103 - val_binary_accuracy: 0.6672\n",
      "Epoch 10/40\n",
      "80/80 [==============================] - 108s 1s/step - loss: 0.5828 - binary_accuracy: 0.7011 - val_loss: 0.5964 - val_binary_accuracy: 0.6828\n",
      "Epoch 11/40\n",
      "80/80 [==============================] - 107s 1s/step - loss: 0.5675 - binary_accuracy: 0.7172 - val_loss: 0.5693 - val_binary_accuracy: 0.7003\n",
      "Epoch 12/40\n",
      "80/80 [==============================] - 106s 1s/step - loss: 0.5401 - binary_accuracy: 0.7388 - val_loss: 0.5467 - val_binary_accuracy: 0.7238\n",
      "Epoch 13/40\n",
      "80/80 [==============================] - 108s 1s/step - loss: 0.5105 - binary_accuracy: 0.7616 - val_loss: 0.5262 - val_binary_accuracy: 0.7397\n",
      "Epoch 14/40\n",
      "80/80 [==============================] - 108s 1s/step - loss: 0.4791 - binary_accuracy: 0.7845 - val_loss: 0.5203 - val_binary_accuracy: 0.7466\n",
      "Epoch 15/40\n",
      "80/80 [==============================] - 110s 1s/step - loss: 0.4512 - binary_accuracy: 0.8067 - val_loss: 0.4932 - val_binary_accuracy: 0.7654\n",
      "Epoch 16/40\n",
      "80/80 [==============================] - 101s 1s/step - loss: 0.4195 - binary_accuracy: 0.8196 - val_loss: 0.4779 - val_binary_accuracy: 0.7755\n",
      "Epoch 17/40\n",
      "80/80 [==============================] - 101s 1s/step - loss: 0.3893 - binary_accuracy: 0.8365 - val_loss: 0.4797 - val_binary_accuracy: 0.7761\n",
      "Epoch 18/40\n",
      "80/80 [==============================] - 108s 1s/step - loss: 0.3597 - binary_accuracy: 0.8527 - val_loss: 0.4913 - val_binary_accuracy: 0.7729\n",
      "Epoch 19/40\n",
      "80/80 [==============================] - 106s 1s/step - loss: 0.3301 - binary_accuracy: 0.8642 - val_loss: 0.5014 - val_binary_accuracy: 0.7737\n",
      "Epoch 20/40\n",
      "80/80 [==============================] - 110s 1s/step - loss: 0.2983 - binary_accuracy: 0.8831 - val_loss: 0.5109 - val_binary_accuracy: 0.7751\n",
      "Epoch 21/40\n",
      "80/80 [==============================] - 105s 1s/step - loss: 0.2674 - binary_accuracy: 0.8966 - val_loss: 0.5367 - val_binary_accuracy: 0.7800\n",
      "Epoch 22/40\n",
      "80/80 [==============================] - 105s 1s/step - loss: 0.2313 - binary_accuracy: 0.9108 - val_loss: 0.5668 - val_binary_accuracy: 0.7769\n",
      "Epoch 23/40\n",
      "80/80 [==============================] - 107s 1s/step - loss: 0.2029 - binary_accuracy: 0.9232 - val_loss: 0.6334 - val_binary_accuracy: 0.7696\n",
      "Epoch 24/40\n",
      "80/80 [==============================] - 104s 1s/step - loss: 0.1917 - binary_accuracy: 0.9227 - val_loss: 0.6698 - val_binary_accuracy: 0.7496\n",
      "Epoch 25/40\n",
      "80/80 [==============================] - 108s 1s/step - loss: 0.2596 - binary_accuracy: 0.8842 - val_loss: 1.1449 - val_binary_accuracy: 0.6686\n",
      "Epoch 26/40\n",
      "80/80 [==============================] - 101s 1s/step - loss: 0.2756 - binary_accuracy: 0.8806 - val_loss: 0.5079 - val_binary_accuracy: 0.7969\n",
      "Epoch 27/40\n",
      "80/80 [==============================] - 103s 1s/step - loss: 0.2204 - binary_accuracy: 0.9072 - val_loss: 0.5237 - val_binary_accuracy: 0.8018\n",
      "Epoch 28/40\n",
      "80/80 [==============================] - 104s 1s/step - loss: 0.1644 - binary_accuracy: 0.9392 - val_loss: 0.5654 - val_binary_accuracy: 0.7979\n",
      "Epoch 29/40\n",
      "80/80 [==============================] - 103s 1s/step - loss: 0.1221 - binary_accuracy: 0.9592 - val_loss: 0.5565 - val_binary_accuracy: 0.8082\n",
      "Epoch 30/40\n",
      "80/80 [==============================] - 103s 1s/step - loss: 0.1040 - binary_accuracy: 0.9658 - val_loss: 0.5679 - val_binary_accuracy: 0.8044\n",
      "Epoch 31/40\n",
      "80/80 [==============================] - 106s 1s/step - loss: 0.1216 - binary_accuracy: 0.9527 - val_loss: 0.8963 - val_binary_accuracy: 0.7375\n",
      "Epoch 32/40\n",
      "80/80 [==============================] - 104s 1s/step - loss: 0.1578 - binary_accuracy: 0.9268 - val_loss: 0.8060 - val_binary_accuracy: 0.7696\n",
      "Epoch 33/40\n",
      "80/80 [==============================] - 101s 1s/step - loss: 0.1218 - binary_accuracy: 0.9489 - val_loss: 0.7126 - val_binary_accuracy: 0.7935\n",
      "Epoch 34/40\n",
      "80/80 [==============================] - 102s 1s/step - loss: 0.0638 - binary_accuracy: 0.9795 - val_loss: 0.8255 - val_binary_accuracy: 0.7840\n",
      "Epoch 35/40\n",
      "80/80 [==============================] - 106s 1s/step - loss: 0.0492 - binary_accuracy: 0.9842 - val_loss: 0.8038 - val_binary_accuracy: 0.7907\n",
      "Epoch 36/40\n",
      "80/80 [==============================] - 102s 1s/step - loss: 0.0527 - binary_accuracy: 0.9845 - val_loss: 0.7792 - val_binary_accuracy: 0.7975\n",
      "Epoch 37/40\n",
      "80/80 [==============================] - 104s 1s/step - loss: 0.0567 - binary_accuracy: 0.9802 - val_loss: 0.7867 - val_binary_accuracy: 0.7909\n",
      "Epoch 38/40\n",
      "80/80 [==============================] - 98s 1s/step - loss: 0.0514 - binary_accuracy: 0.9818 - val_loss: 0.9419 - val_binary_accuracy: 0.7701\n",
      "Epoch 39/40\n",
      "80/80 [==============================] - 100s 1s/step - loss: 0.0569 - binary_accuracy: 0.9838 - val_loss: 1.0167 - val_binary_accuracy: 0.7666\n",
      "Epoch 40/40\n",
      "80/80 [==============================] - 102s 1s/step - loss: 0.0604 - binary_accuracy: 0.9801 - val_loss: 0.7710 - val_binary_accuracy: 0.7911\n"
     ]
    }
   ],
   "source": [
    "model.compile(\n",
    "    optimizer = tf.keras.optimizers.Adam(epsilon = 0.01),\n",
    "    loss = 'binary_crossentropy',\n",
    "    metrics = ['binary_accuracy']\n",
    ")\n",
    "\n",
    "history = model.fit(\n",
    "    ds_train,\n",
    "    validation_data = ds_valid,\n",
    "    epochs = 40\n",
    ")"
   ]
  },
  {
   "cell_type": "code",
   "execution_count": 5,
   "id": "patient-clock",
   "metadata": {},
   "outputs": [
    {
     "data": {
      "text/plain": [
       "<AxesSubplot:>"
      ]
     },
     "execution_count": 5,
     "metadata": {},
     "output_type": "execute_result"
    },
    {
     "data": {
      "image/png": "[encoded data removed]",
      "text/plain": [
       "<Figure size 432x288 with 1 Axes>"
      ]
     },
     "metadata": {
      "needs_background": "light"
     },
     "output_type": "display_data"
    },
    {
     "data": {
      "image/png": "[encoded data removed]",
      "text/plain": [
       "<Figure size 432x288 with 1 Axes>"
      ]
     },
     "metadata": {
      "needs_background": "light"
     },
     "output_type": "display_data"
    }
   ],
   "source": [
    "import pandas as pd\n",
    "\n",
    "history_frame = pd.DataFrame(history.history)\n",
    "history_frame.loc[:, ['loss', 'val_loss']].plot()\n",
    "history_frame.loc[:, ['binary_accuracy', 'val_binary_accuracy']].plot()"
   ]
  },
  {
   "cell_type": "markdown",
   "id": "creative-warehouse",
   "metadata": {},
   "source": [
    "This model is much smaller than the VGG16 model from Lesson 1 -- only 3 convolutional layers versus the 16 of VGG16. It was nevertheless able to fit this dataset fairly well. We might still be able to improve this simple model by adding more convolutional layers, hoping to create features better adapted to the dataset. This is what we'll try in the exercises."
   ]
  },
  {
   "cell_type": "markdown",
   "id": "union-baptist",
   "metadata": {},
   "source": [
    "## Conclusion\n",
    "In this tutorial, you saw how to build a custom convnet composed of many convolutional blocks and capable of complex feature engineering."
   ]
  }
 ],
 "metadata": {
  "kernelspec": {
   "display_name": "Python 3",
   "language": "python",
   "name": "python3"
  },
  "language_info": {
   "codemirror_mode": {
    "name": "ipython",
    "version": 3
   },
   "file_extension": ".py",
   "mimetype": "text/x-python",
   "name": "python",
   "nbconvert_exporter": "python",
   "pygments_lexer": "ipython3",
   "version": "3.8.5"
  }
 },
 "nbformat": 4,
 "nbformat_minor": 5
}
