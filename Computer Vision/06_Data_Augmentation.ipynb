{
 "cells": [
  {
   "cell_type": "markdown",
   "id": "average-garlic",
   "metadata": {},
   "source": [
    "# Data Augmentation"
   ]
  },
  {
   "cell_type": "markdown",
   "id": "advisory-glance",
   "metadata": {},
   "source": [
    "In this lesson, you'll learn a trick that can give a boost to your image classifiers: it's called data augmentation."
   ]
  },
  {
   "cell_type": "markdown",
   "id": "searching-sixth",
   "metadata": {},
   "source": [
    "## The Usefulness of Fake Data\n",
    "The best way to improve the performance of a machine learning model is to train it on more data. The more examples the model has to learn from, the better it will be able to recognize which differences in images matter and which do not. More data helps the model to generalize better.\n",
    "\n",
    "One easy way of getting more data is to use the data you already have. If we can transform the images in our dataset in ways that preserve the class, we can teach our classifier to ignore those kinds of transformations. For instance, whether a car is facing left or right in a photo doesn't change the fact that it is a Car and not a Truck. So, if we augment our training data with flipped images, our classifier will learn that \"left or right\" is a difference it should ignore.\n",
    "\n",
    "And that's the whole idea behind data augmentation: add in some extra fake data that looks reasonably like the real data and your classifier will improve.\n",
    "\n",
    "## Using Data Augmentation\n",
    "Typically, many kinds of transformation are used when augmenting a dataset. These might include rotating the image, adjusting the color or contrast, warping the image, or many other things, usually applied in combination.\n",
    "\n",
    "Data augmentation is usually done online, meaning, as the images are being fed into the network for training. Recall that training is usually done on mini-batches of data.\n",
    "\n",
    "Each time an image is used during training, a new random transformation is applied. This way, the model is always seeing something a little different than what it's seen before. This extra variance in the training data is what helps the model on new data.\n",
    "\n",
    "It's important to remember though that not every transformation will be useful on a given problem. Most importantly, whatever transformations you use should not mix up the classes. If you were training a digit recognizer, for instance, rotating images would mix up '9's and '6's. In the end, the best approach for finding good augmentations is the same as with most ML problems: try it and see!"
   ]
  },
  {
   "cell_type": "markdown",
   "id": "healthy-shanghai",
   "metadata": {},
   "source": [
    "## Example - Training with Data Augmentation\n",
    "Keras lets you augment your data in two ways. The first way is to include it in the data pipeline with a function like ImageDataGenerator. The second way is to include it in the model definition by using Keras's preprocessing layers. This is the approach that we'll take. The primary advantage for us is that the image transformations will be computed on the GPU instead of the CPU, potentially speeding up training.\n",
    "\n",
    "In this exercise, we'll learn how to improve the classifier from Lesson 1 through data augmentation. This next hidden cell sets up the data pipeline."
   ]
  },
  {
   "cell_type": "markdown",
   "id": "chronic-landing",
   "metadata": {},
   "source": [
    "### Step 1 - Load Data"
   ]
  },
  {
   "cell_type": "code",
   "execution_count": 1,
   "id": "overall-italic",
   "metadata": {},
   "outputs": [
    {
     "name": "stdout",
     "output_type": "stream",
     "text": [
      "Found 5117 files belonging to 2 classes.\n",
      "Found 5051 files belonging to 2 classes.\n"
     ]
    }
   ],
   "source": [
    "# Imports\n",
    "import os, warnings\n",
    "import matplotlib.pyplot as plt\n",
    "from matplotlib import gridspec\n",
    "import numpy as np\n",
    "import tensorflow as tf\n",
    "from tensorflow.keras.preprocessing import image_dataset_from_directory\n",
    "\n",
    "# Reproducability\n",
    "def set_seed(seed=31415):\n",
    "    np.random.seed(seed)\n",
    "    tf.random.set_seed(seed)\n",
    "    os.environ['PYTHONHASHSEED'] = str(seed)\n",
    "    os.environ['TF_DETERMINISTIC_OPS'] = '1'\n",
    "    \n",
    "set_seed()\n",
    "\n",
    "# Set Matplotlib defaults\n",
    "\n",
    "plt.rc('figure', autolayout = True)\n",
    "plt.rc('axes',\n",
    "       labelweight = 'bold',\n",
    "       labelsize = 'large',\n",
    "       titleweight = 'bold',\n",
    "       titlesize = 18,\n",
    "       titlepad = 10\n",
    "      )\n",
    "plt.rc('image', cmap='magma')\n",
    "warnings.filterwarnings('ignore') # to clean up output\n",
    "\n",
    "# Load training and validation sets\n",
    "ds_train_ = image_dataset_from_directory(\n",
    "    'train',\n",
    "    labels = 'inferred',\n",
    "    label_mode = 'binary',\n",
    "    image_size = [128, 128],\n",
    "    interpolation = 'nearest',\n",
    "    batch_size = 64,\n",
    "    shuffle = True\n",
    ")\n",
    "\n",
    "ds_valid_ = image_dataset_from_directory(\n",
    "    'valid',\n",
    "    labels = 'inferred',\n",
    "    label_mode = 'binary',\n",
    "    image_size = [128, 128],\n",
    "    interpolation = 'nearest',\n",
    "    batch_size = 64,\n",
    "    shuffle = False\n",
    ")\n",
    "\n",
    "# Data Pipeline\n",
    "def convert_to_float(image, label):\n",
    "    image = tf.image.convert_image_dtype(image, dtype=tf.float32)\n",
    "    return image, label\n",
    "\n",
    "AUTOTUNE = tf.data.experimental.AUTOTUNE\n",
    "\n",
    "ds_train = (\n",
    "    ds_train_.map(convert_to_float).cache().prefetch(buffer_size = AUTOTUNE)\n",
    ")\n",
    "\n",
    "ds_valid = (\n",
    "    ds_valid_.map(convert_to_float).cache().prefetch(buffer_size = AUTOTUNE)\n",
    ")"
   ]
  },
  {
   "cell_type": "markdown",
   "id": "challenging-malta",
   "metadata": {},
   "source": [
    "### Step 2 - Define Model\n",
    "To illustrate the effect of augmentation, we'll just add a couple of simple transformations to the model from Tutorial 1."
   ]
  },
  {
   "cell_type": "code",
   "execution_count": 2,
   "id": "simple-cancer",
   "metadata": {},
   "outputs": [
    {
     "name": "stdout",
     "output_type": "stream",
     "text": [
      "WARNING:tensorflow:No training configuration found in save file, so the model was *not* compiled. Compile it manually.\n"
     ]
    }
   ],
   "source": [
    "from tensorflow import keras\n",
    "from tensorflow.keras import layers\n",
    "# these are a new feature in TF 2.2\n",
    "from tensorflow.keras.layers.experimental import preprocessing\n",
    "\n",
    "pretrained_base = tf.keras.models.load_model('cv-course-models/vgg16-pretrained-base')\n",
    "pretrained_base.trainable = False\n",
    "\n",
    "model = keras.Sequential([\n",
    "    # Preprocessing\n",
    "    preprocessing.RandomFlip('horizontal'), # Flip left-to-right\n",
    "    preprocessing.RandomContrast(0.5), # contrast change by up to 50%\n",
    "    \n",
    "    # Base\n",
    "    pretrained_base,\n",
    "    \n",
    "    # Head\n",
    "    layers.Flatten(),\n",
    "    layers.Dense(6, activation = 'relu'),\n",
    "    layers.Dense(1, activation = 'sigmoid')\n",
    "])"
   ]
  },
  {
   "cell_type": "markdown",
   "id": "flexible-oxford",
   "metadata": {},
   "source": [
    "### Step 3 - Train and Evaluate"
   ]
  },
  {
   "cell_type": "code",
   "execution_count": 3,
   "id": "earned-newspaper",
   "metadata": {},
   "outputs": [
    {
     "name": "stdout",
     "output_type": "stream",
     "text": [
      "Epoch 1/30\n",
      "80/80 [==============================] - 347s 4s/step - loss: 0.5893 - binary_accuracy: 0.6854 - val_loss: 0.3904 - val_binary_accuracy: 0.8293\n",
      "Epoch 2/30\n",
      "80/80 [==============================] - 346s 4s/step - loss: 0.3769 - binary_accuracy: 0.8352 - val_loss: 0.3488 - val_binary_accuracy: 0.8567\n",
      "Epoch 3/30\n",
      "80/80 [==============================] - 349s 4s/step - loss: 0.3297 - binary_accuracy: 0.8625 - val_loss: 0.3278 - val_binary_accuracy: 0.8616\n",
      "Epoch 4/30\n",
      "80/80 [==============================] - 345s 4s/step - loss: 0.3170 - binary_accuracy: 0.8652 - val_loss: 0.3147 - val_binary_accuracy: 0.8672\n",
      "Epoch 5/30\n",
      "80/80 [==============================] - 341s 4s/step - loss: 0.2977 - binary_accuracy: 0.8777 - val_loss: 0.3267 - val_binary_accuracy: 0.8620\n",
      "Epoch 6/30\n",
      "80/80 [==============================] - 342s 4s/step - loss: 0.2909 - binary_accuracy: 0.8735 - val_loss: 0.3146 - val_binary_accuracy: 0.8666\n",
      "Epoch 7/30\n",
      "80/80 [==============================] - 343s 4s/step - loss: 0.2732 - binary_accuracy: 0.8846 - val_loss: 0.2988 - val_binary_accuracy: 0.8769\n",
      "Epoch 8/30\n",
      "80/80 [==============================] - 354s 4s/step - loss: 0.2739 - binary_accuracy: 0.8841 - val_loss: 0.3310 - val_binary_accuracy: 0.8614\n",
      "Epoch 9/30\n",
      "80/80 [==============================] - 348s 4s/step - loss: 0.2407 - binary_accuracy: 0.9039 - val_loss: 0.3369 - val_binary_accuracy: 0.8567\n",
      "Epoch 10/30\n",
      "80/80 [==============================] - 349s 4s/step - loss: 0.2326 - binary_accuracy: 0.8978 - val_loss: 0.3035 - val_binary_accuracy: 0.8735\n",
      "Epoch 11/30\n",
      "80/80 [==============================] - 341s 4s/step - loss: 0.2178 - binary_accuracy: 0.9127 - val_loss: 0.3087 - val_binary_accuracy: 0.8729\n",
      "Epoch 12/30\n",
      "80/80 [==============================] - 354s 4s/step - loss: 0.2263 - binary_accuracy: 0.9098 - val_loss: 0.3017 - val_binary_accuracy: 0.8759\n",
      "Epoch 13/30\n",
      "80/80 [==============================] - 349s 4s/step - loss: 0.2166 - binary_accuracy: 0.9088 - val_loss: 0.3075 - val_binary_accuracy: 0.8735\n",
      "Epoch 14/30\n",
      "80/80 [==============================] - 354s 4s/step - loss: 0.2128 - binary_accuracy: 0.9160 - val_loss: 0.3180 - val_binary_accuracy: 0.8693\n",
      "Epoch 15/30\n",
      "80/80 [==============================] - 366s 5s/step - loss: 0.2112 - binary_accuracy: 0.9134 - val_loss: 0.3080 - val_binary_accuracy: 0.8747\n",
      "Epoch 16/30\n",
      "80/80 [==============================] - 367s 5s/step - loss: 0.1921 - binary_accuracy: 0.9223 - val_loss: 0.3020 - val_binary_accuracy: 0.8782\n",
      "Epoch 17/30\n",
      "80/80 [==============================] - 349s 4s/step - loss: 0.1923 - binary_accuracy: 0.9160 - val_loss: 0.3015 - val_binary_accuracy: 0.8794\n",
      "Epoch 18/30\n",
      "80/80 [==============================] - 350s 4s/step - loss: 0.2119 - binary_accuracy: 0.9112 - val_loss: 0.3053 - val_binary_accuracy: 0.8804\n",
      "Epoch 19/30\n",
      "80/80 [==============================] - 346s 4s/step - loss: 0.1774 - binary_accuracy: 0.9334 - val_loss: 0.3037 - val_binary_accuracy: 0.8826\n",
      "Epoch 20/30\n",
      "80/80 [==============================] - 366s 5s/step - loss: 0.1737 - binary_accuracy: 0.9300 - val_loss: 0.3300 - val_binary_accuracy: 0.8668\n",
      "Epoch 21/30\n",
      "80/80 [==============================] - 365s 5s/step - loss: 0.1919 - binary_accuracy: 0.9240 - val_loss: 0.3093 - val_binary_accuracy: 0.8792\n",
      "Epoch 22/30\n",
      "80/80 [==============================] - 353s 4s/step - loss: 0.1611 - binary_accuracy: 0.9363 - val_loss: 0.3146 - val_binary_accuracy: 0.8749\n",
      "Epoch 23/30\n",
      "80/80 [==============================] - 359s 5s/step - loss: 0.1731 - binary_accuracy: 0.9251 - val_loss: 0.3136 - val_binary_accuracy: 0.8771\n",
      "Epoch 24/30\n",
      "80/80 [==============================] - 349s 4s/step - loss: 0.1690 - binary_accuracy: 0.9302 - val_loss: 0.3311 - val_binary_accuracy: 0.8759\n",
      "Epoch 25/30\n",
      "80/80 [==============================] - 347s 4s/step - loss: 0.1494 - binary_accuracy: 0.9445 - val_loss: 0.3166 - val_binary_accuracy: 0.8735\n",
      "Epoch 26/30\n",
      "80/80 [==============================] - 345s 4s/step - loss: 0.1652 - binary_accuracy: 0.9302 - val_loss: 0.3201 - val_binary_accuracy: 0.8782\n",
      "Epoch 27/30\n",
      "80/80 [==============================] - 344s 4s/step - loss: 0.1555 - binary_accuracy: 0.9352 - val_loss: 0.3735 - val_binary_accuracy: 0.8543\n",
      "Epoch 28/30\n",
      "80/80 [==============================] - 359s 5s/step - loss: 0.1811 - binary_accuracy: 0.9287 - val_loss: 0.3444 - val_binary_accuracy: 0.8646\n",
      "Epoch 29/30\n",
      "80/80 [==============================] - 351s 4s/step - loss: 0.1705 - binary_accuracy: 0.9318 - val_loss: 0.3258 - val_binary_accuracy: 0.8822\n",
      "Epoch 30/30\n",
      "80/80 [==============================] - 347s 4s/step - loss: 0.1510 - binary_accuracy: 0.9419 - val_loss: 0.4513 - val_binary_accuracy: 0.8274\n"
     ]
    }
   ],
   "source": [
    "model.compile(\n",
    "    optimizer = 'adam',\n",
    "    loss = 'binary_crossentropy',\n",
    "    metrics = ['binary_accuracy']\n",
    ")\n",
    "\n",
    "history = model.fit(\n",
    "    ds_train,\n",
    "    validation_data = ds_valid,\n",
    "    epochs = 30\n",
    ")"
   ]
  },
  {
   "cell_type": "code",
   "execution_count": 4,
   "id": "painful-hypothetical",
   "metadata": {},
   "outputs": [
    {
     "data": {
      "text/plain": [
       "<AxesSubplot:>"
      ]
     },
     "execution_count": 4,
     "metadata": {},
     "output_type": "execute_result"
    },
    {
     "data": {
      "image/png": "[encoded data removed]",
      "text/plain": [
       "<Figure size 432x288 with 1 Axes>"
      ]
     },
     "metadata": {
      "needs_background": "light"
     },
     "output_type": "display_data"
    },
    {
     "data": {
      "image/png": "[encoded data removed]",
      "text/plain": [
       "<Figure size 432x288 with 1 Axes>"
      ]
     },
     "metadata": {
      "needs_background": "light"
     },
     "output_type": "display_data"
    }
   ],
   "source": [
    "import pandas as pd\n",
    "\n",
    "history_frame = pd.DataFrame(history.history)\n",
    "\n",
    "history_frame.loc[:, ['loss', 'val_loss']].plot()\n",
    "history_frame.loc[:, ['binary_accuracy', 'val_binary_accuracy']].plot()"
   ]
  },
  {
   "cell_type": "markdown",
   "id": "bizarre-willow",
   "metadata": {},
   "source": [
    "The training and validation curves in the model from Tutorial 1 diverged fairly quickly, suggesting that it could benefit from some regularization. The learning curves for this model were able to stay closer together, and we achieved some modest improvement in validation loss and accuracy. This suggests that the dataset did indeed benefit from the augmentation."
   ]
  }
 ],
 "metadata": {
  "kernelspec": {
   "display_name": "Python 3",
   "language": "python",
   "name": "python3"
  },
  "language_info": {
   "codemirror_mode": {
    "name": "ipython",
    "version": 3
   },
   "file_extension": ".py",
   "mimetype": "text/x-python",
   "name": "python",
   "nbconvert_exporter": "python",
   "pygments_lexer": "ipython3",
   "version": "3.8.5"
  }
 },
 "nbformat": 4,
 "nbformat_minor": 5
}
