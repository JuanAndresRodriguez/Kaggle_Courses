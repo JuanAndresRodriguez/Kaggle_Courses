{
 "cells": [
  {
   "cell_type": "markdown",
   "id": "mighty-antique",
   "metadata": {},
   "source": [
    "# The Convolutional Classifier"
   ]
  },
  {
   "cell_type": "markdown",
   "id": "rough-advocacy",
   "metadata": {},
   "source": [
    "A convnet used for image classification consists of two parts: a convolutional base and a dense head.\n",
    "\n",
    "The base is used to extract the features from an image. It is formed primarily of layers performing the convolution operation, but often includes other kinds of layers as well. (You'll learn about these in the next lesson.)\n",
    "\n",
    "The head is used to determine the class of the image. It is formed primarily of dense layers, but might include other layers like dropout.\n",
    "\n",
    "What do we mean by visual feature? A feature could be a line, a color, a texture, a shape, a pattern -- or some complicated combination."
   ]
  },
  {
   "cell_type": "markdown",
   "id": "historic-round",
   "metadata": {},
   "source": [
    "## Training a Classifier\n",
    "The goal of the network during training is to learn two things:\n",
    "\n",
    "1. which features to extract from an image (base),\n",
    "2. which class goes with what features (head).\n",
    "\n",
    "These days, convnets are rarely trained from scratch. More often, we reuse the base of a pretrained model. To the pretrained base we then attach an untrained head. In other words, we reuse the part of a network that has already learned to do 1. Extract features, and attach to it some fresh layers to learn 2. Classify."
   ]
  },
  {
   "cell_type": "markdown",
   "id": "aquatic-denver",
   "metadata": {},
   "source": [
    "Because the head usually consists of only a few dense layers, very accurate classifiers can be created from relatively little data.\n",
    "\n",
    "Reusing a pretrained model is a technique known as transfer learning. It is so effective, that almost every image classifier these days will make use of it."
   ]
  },
  {
   "cell_type": "markdown",
   "id": "protective-residence",
   "metadata": {},
   "source": [
    "## Example - Train a Convnet Classifier\n",
    "Throughout this course, we're going to be creating classifiers that attempt to solve the following problem: is this a picture of a Car or of a Truck? Our dataset is about 10,000 pictures of various automobiles, around half cars and half trucks.\n",
    "### Step 1 - Load Data"
   ]
  },
  {
   "cell_type": "code",
   "execution_count": 7,
   "id": "cognitive-graphic",
   "metadata": {},
   "outputs": [
    {
     "name": "stdout",
     "output_type": "stream",
     "text": [
      "Found 5117 files belonging to 2 classes.\n",
      "Found 5051 files belonging to 2 classes.\n"
     ]
    }
   ],
   "source": [
    "# Imports\n",
    "import os, warnings\n",
    "import matplotlib.pyplot as plt\n",
    "from matplotlib import gridspec\n",
    "\n",
    "import numpy as np\n",
    "import tensorflow as tf\n",
    "from tensorflow.keras.preprocessing import image_dataset_from_directory\n",
    "\n",
    "# Reproducability\n",
    "def set_seed(seed=31415):\n",
    "    np.random.seed(seed)\n",
    "    tf.random.set_seed(seed)\n",
    "    os.environ['PYTHONHASHSEED'] = str(seed)\n",
    "    os.environ['TF_DETERMINISTIC_OPS'] = '1'\n",
    "    \n",
    "set_seed(31415)\n",
    "\n",
    "# Set Matplotlib defaults\n",
    "plt.rc('figure', autolayout=True)\n",
    "plt.rc('axes', labelweight='bold', labelsize='large',\n",
    "       titleweight = 'bold', titlesize=18, titlepad=10\n",
    "      )\n",
    "plt.rc('image', cmap='magma')\n",
    "warnings.filterwarnings('ignore') # to clean up outputs cells\n",
    "\n",
    "# Load training and validation sets\n",
    "ds_train_ = image_dataset_from_directory(\n",
    "    \"train\",\n",
    "    labels = 'inferred',\n",
    "    label_mode = 'binary',\n",
    "    image_size = [128, 128],\n",
    "    interpolation = 'nearest',\n",
    "    batch_size = 64,\n",
    "    shuffle = True\n",
    ")\n",
    "\n",
    "ds_valid_ = image_dataset_from_directory(\n",
    "    \"valid\",\n",
    "    labels = 'inferred',\n",
    "    label_mode = 'binary',\n",
    "    image_size = [128, 128],\n",
    "    interpolation = 'nearest',\n",
    "    batch_size = 64,\n",
    "    shuffle = True\n",
    ")\n",
    "\n",
    "# Data Pipeline\n",
    "def convert_to_float(image, label):\n",
    "    image = tf.image.convert_image_dtype(image, dtype=tf.float32)\n",
    "    return image, label\n",
    "\n",
    "AUTOTUNE = tf.data.experimental.AUTOTUNE\n",
    "\n",
    "ds_train = (\n",
    "    ds_train_.map(convert_to_float).cache().prefetch(buffer_size=AUTOTUNE)\n",
    ")\n",
    "\n",
    "ds_valid = (\n",
    "    ds_valid_.map(convert_to_float).cache().prefetch(buffer_size=AUTOTUNE)\n",
    ")"
   ]
  },
  {
   "cell_type": "markdown",
   "id": "biblical-romantic",
   "metadata": {},
   "source": [
    "### Step 2 - Define Pretrained Base"
   ]
  },
  {
   "cell_type": "markdown",
   "id": "configured-distributor",
   "metadata": {},
   "source": [
    "The most commonly used dataset for pretraining is ImageNet, a large dataset of many kind of natural images. Keras includes a variety models pretrained on ImageNet in its applications module. The pretrained model we'll use is called VGG16."
   ]
  },
  {
   "cell_type": "code",
   "execution_count": 9,
   "id": "determined-trader",
   "metadata": {},
   "outputs": [
    {
     "name": "stdout",
     "output_type": "stream",
     "text": [
      "WARNING:tensorflow:No training configuration found in save file, so the model was *not* compiled. Compile it manually.\n"
     ]
    }
   ],
   "source": [
    "pretrained_base = tf.keras.models.load_model(\n",
    "    \"cv-course-models/vgg16-pretrained-base\"\n",
    ")\n",
    "pretrained_base.trainable = False"
   ]
  },
  {
   "cell_type": "markdown",
   "id": "choice-marijuana",
   "metadata": {},
   "source": [
    "### Step 3- Attach Head\n",
    "Next, we attach the classifier head. For this example, we'll use a layer of hidden units (the first Dense layer) followed by a layer to transform the outputs to a probability score for class 1, Truck. The Flatten layer transforms the two dimensional outputs of the base into the one dimensional inputs needed by the head."
   ]
  },
  {
   "cell_type": "code",
   "execution_count": 11,
   "id": "separated-recording",
   "metadata": {},
   "outputs": [],
   "source": [
    "from tensorflow import keras\n",
    "from tensorflow.keras import layers\n",
    "\n",
    "model = keras.Sequential([\n",
    "    pretrained_base,\n",
    "    layers.Flatten(),\n",
    "    layers.Dense(6, activation='relu'),\n",
    "    layers.Dense(1, activation='sigmoid')\n",
    "])"
   ]
  },
  {
   "cell_type": "markdown",
   "id": "every-breakdown",
   "metadata": {},
   "source": [
    "### Step 4 - Train\n",
    "Finally, let's train the model. Since this is a two-class problem, we'll use the binary versions of crossentropy and accuracy. The adam optimizer generally performs well, so we'll choose it as well."
   ]
  },
  {
   "cell_type": "code",
   "execution_count": 12,
   "id": "humanitarian-russell",
   "metadata": {},
   "outputs": [
    {
     "name": "stdout",
     "output_type": "stream",
     "text": [
      "Epoch 1/30\n",
      "80/80 [==============================] - 352s 4s/step - loss: 0.5629 - binary_accuracy: 0.7166 - val_loss: 0.3734 - val_binary_accuracy: 0.8388\n",
      "Epoch 2/30\n",
      "80/80 [==============================] - 326s 4s/step - loss: 0.3481 - binary_accuracy: 0.8546 - val_loss: 0.3396 - val_binary_accuracy: 0.8557\n",
      "Epoch 3/30\n",
      "80/80 [==============================] - 326s 4s/step - loss: 0.2984 - binary_accuracy: 0.8818 - val_loss: 0.3265 - val_binary_accuracy: 0.8626\n",
      "Epoch 4/30\n",
      "80/80 [==============================] - 330s 4s/step - loss: 0.2657 - binary_accuracy: 0.8989 - val_loss: 0.3210 - val_binary_accuracy: 0.8662\n",
      "Epoch 5/30\n",
      "80/80 [==============================] - 329s 4s/step - loss: 0.2401 - binary_accuracy: 0.9105 - val_loss: 0.3176 - val_binary_accuracy: 0.8658\n",
      "Epoch 6/30\n",
      "80/80 [==============================] - 329s 4s/step - loss: 0.2183 - binary_accuracy: 0.9229 - val_loss: 0.3139 - val_binary_accuracy: 0.8683\n",
      "Epoch 7/30\n",
      "80/80 [==============================] - 329s 4s/step - loss: 0.1994 - binary_accuracy: 0.9344 - val_loss: 0.3086 - val_binary_accuracy: 0.8735\n",
      "Epoch 8/30\n",
      "80/80 [==============================] - 329s 4s/step - loss: 0.1831 - binary_accuracy: 0.9387 - val_loss: 0.3055 - val_binary_accuracy: 0.8729\n",
      "Epoch 9/30\n",
      "80/80 [==============================] - 329s 4s/step - loss: 0.1708 - binary_accuracy: 0.9422 - val_loss: 0.3178 - val_binary_accuracy: 0.8676\n",
      "Epoch 10/30\n",
      "80/80 [==============================] - 329s 4s/step - loss: 0.1673 - binary_accuracy: 0.9422 - val_loss: 0.3728 - val_binary_accuracy: 0.8483\n",
      "Epoch 11/30\n",
      "80/80 [==============================] - 330s 4s/step - loss: 0.1786 - binary_accuracy: 0.9249 - val_loss: 0.3306 - val_binary_accuracy: 0.8672\n",
      "Epoch 12/30\n",
      "80/80 [==============================] - 329s 4s/step - loss: 0.1682 - binary_accuracy: 0.9325 - val_loss: 0.3655 - val_binary_accuracy: 0.8521\n",
      "Epoch 13/30\n",
      "80/80 [==============================] - 330s 4s/step - loss: 0.1540 - binary_accuracy: 0.9405 - val_loss: 0.3414 - val_binary_accuracy: 0.8638\n",
      "Epoch 14/30\n",
      "80/80 [==============================] - 331s 4s/step - loss: 0.1494 - binary_accuracy: 0.9409 - val_loss: 0.3272 - val_binary_accuracy: 0.8743\n",
      "Epoch 15/30\n",
      "80/80 [==============================] - 330s 4s/step - loss: 0.1332 - binary_accuracy: 0.9502 - val_loss: 0.3656 - val_binary_accuracy: 0.8582\n",
      "Epoch 16/30\n",
      "80/80 [==============================] - 331s 4s/step - loss: 0.1134 - binary_accuracy: 0.9629 - val_loss: 0.3831 - val_binary_accuracy: 0.8541\n",
      "Epoch 17/30\n",
      "80/80 [==============================] - 330s 4s/step - loss: 0.0967 - binary_accuracy: 0.9737 - val_loss: 0.3864 - val_binary_accuracy: 0.8525\n",
      "Epoch 18/30\n",
      "80/80 [==============================] - 329s 4s/step - loss: 0.0855 - binary_accuracy: 0.9827 - val_loss: 0.3887 - val_binary_accuracy: 0.8529\n",
      "Epoch 19/30\n",
      "80/80 [==============================] - 331s 4s/step - loss: 0.0772 - binary_accuracy: 0.9854 - val_loss: 0.3918 - val_binary_accuracy: 0.8547\n",
      "Epoch 20/30\n",
      "80/80 [==============================] - 334s 4s/step - loss: 0.0706 - binary_accuracy: 0.9869 - val_loss: 0.3956 - val_binary_accuracy: 0.8539\n",
      "Epoch 21/30\n",
      "80/80 [==============================] - 332s 4s/step - loss: 0.0650 - binary_accuracy: 0.9883 - val_loss: 0.3998 - val_binary_accuracy: 0.8551\n",
      "Epoch 22/30\n",
      "80/80 [==============================] - 332s 4s/step - loss: 0.0602 - binary_accuracy: 0.9891 - val_loss: 0.4049 - val_binary_accuracy: 0.8553\n",
      "Epoch 23/30\n",
      "80/80 [==============================] - 332s 4s/step - loss: 0.0558 - binary_accuracy: 0.9917 - val_loss: 0.4102 - val_binary_accuracy: 0.8553\n",
      "Epoch 24/30\n",
      "80/80 [==============================] - 334s 4s/step - loss: 0.0519 - binary_accuracy: 0.9920 - val_loss: 0.4158 - val_binary_accuracy: 0.8557\n",
      "Epoch 25/30\n",
      "80/80 [==============================] - 334s 4s/step - loss: 0.0484 - binary_accuracy: 0.9940 - val_loss: 0.4217 - val_binary_accuracy: 0.8545\n",
      "Epoch 26/30\n",
      "80/80 [==============================] - 333s 4s/step - loss: 0.0452 - binary_accuracy: 0.9949 - val_loss: 0.4284 - val_binary_accuracy: 0.8535\n",
      "Epoch 27/30\n",
      "80/80 [==============================] - 331s 4s/step - loss: 0.0423 - binary_accuracy: 0.9958 - val_loss: 0.4364 - val_binary_accuracy: 0.8547\n",
      "Epoch 28/30\n",
      "80/80 [==============================] - 331s 4s/step - loss: 0.0398 - binary_accuracy: 0.9965 - val_loss: 0.4458 - val_binary_accuracy: 0.8541\n",
      "Epoch 29/30\n",
      "80/80 [==============================] - 330s 4s/step - loss: 0.0376 - binary_accuracy: 0.9969 - val_loss: 0.4572 - val_binary_accuracy: 0.8541\n",
      "Epoch 30/30\n",
      "80/80 [==============================] - 339s 4s/step - loss: 0.0358 - binary_accuracy: 0.9979 - val_loss: 0.4698 - val_binary_accuracy: 0.8529\n"
     ]
    }
   ],
   "source": [
    "model.compile(\n",
    "    optimizer = \"adam\",\n",
    "    loss = 'binary_crossentropy',\n",
    "    metrics=['binary_accuracy']\n",
    ")\n",
    "\n",
    "history = model.fit(\n",
    "    ds_train,\n",
    "    validation_data=ds_valid,\n",
    "    epochs=30\n",
    ")"
   ]
  },
  {
   "cell_type": "markdown",
   "id": "addressed-grammar",
   "metadata": {},
   "source": [
    "When training a neural network, it's always a good idea to examine the loss and metric plots. The history object contains this information in a dictionary history.history. We can use Pandas to convert this dictionary to a dataframe and plot it with a built-in method."
   ]
  },
  {
   "cell_type": "code",
   "execution_count": 14,
   "id": "further-pioneer",
   "metadata": {},
   "outputs": [
    {
     "data": {
      "image/png": "[encoded data removed]",
      "text/plain": [
       "<Figure size 432x288 with 1 Axes>"
      ]
     },
     "metadata": {
      "needs_background": "light"
     },
     "output_type": "display_data"
    },
    {
     "data": {
      "image/png": "[encoded data removed]",
      "text/plain": [
       "<Figure size 432x288 with 1 Axes>"
      ]
     },
     "metadata": {
      "needs_background": "light"
     },
     "output_type": "display_data"
    }
   ],
   "source": [
    "import pandas as pd\n",
    "\n",
    "history_frame = pd.DataFrame(history.history)\n",
    "history_frame.loc[:, ['loss', 'val_loss']].plot()\n",
    "history_frame.loc[:, ['binary_accuracy', 'val_binary_accuracy']].plot();"
   ]
  },
  {
   "cell_type": "markdown",
   "id": "powered-schema",
   "metadata": {},
   "source": [
    "## Conclusion\n",
    "In this lesson, we learned about the structure of a convnet classifier: a head to act as a classifier atop of a base which performs the feature extraction.\n",
    "\n",
    "The head, essentially, is an ordinary classifier like you learned about in the introductory course. For features, it uses those features extracted by the base. This is the basic idea behind convolutional classifiers: that we can attach a unit that performs feature engineering to the classifier itself.\n",
    "\n",
    "This is one of the big advantages deep neural networks have over traditional machine learning models: given the right network structure, the deep neural net can learn how to engineer the features it needs to solve its problem.\n",
    "\n",
    "For the next few lessons, we'll take a look at how the convolutional base accomplishes the feature extraction. Then, you'll learn how to apply these ideas and design some classifiers of your own."
   ]
  }
 ],
 "metadata": {
  "kernelspec": {
   "display_name": "Python 3",
   "language": "python",
   "name": "python3"
  },
  "language_info": {
   "codemirror_mode": {
    "name": "ipython",
    "version": 3
   },
   "file_extension": ".py",
   "mimetype": "text/x-python",
   "name": "python",
   "nbconvert_exporter": "python",
   "pygments_lexer": "ipython3",
   "version": "3.8.5"
  }
 },
 "nbformat": 4,
 "nbformat_minor": 5
}
